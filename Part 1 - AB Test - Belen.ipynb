{
 "cells": [
  {
   "cell_type": "code",
   "execution_count": 1,
   "metadata": {},
   "outputs": [],
   "source": [
    "import numpy as np\n",
    "import pandas as pd\n",
    "import matplotlib.pyplot as plt"
   ]
  },
  {
   "cell_type": "markdown",
   "metadata": {},
   "source": [
    "  "
   ]
  },
  {
   "cell_type": "markdown",
   "metadata": {},
   "source": [
    "## EDA"
   ]
  },
  {
   "cell_type": "markdown",
   "metadata": {},
   "source": [
    "### 1. Read data"
   ]
  },
  {
   "cell_type": "code",
   "execution_count": 2,
   "metadata": {},
   "outputs": [
    {
     "data": {
      "text/html": [
       "<div>\n",
       "<style scoped>\n",
       "    .dataframe tbody tr th:only-of-type {\n",
       "        vertical-align: middle;\n",
       "    }\n",
       "\n",
       "    .dataframe tbody tr th {\n",
       "        vertical-align: top;\n",
       "    }\n",
       "\n",
       "    .dataframe thead th {\n",
       "        text-align: right;\n",
       "    }\n",
       "</style>\n",
       "<table border=\"1\" class=\"dataframe\">\n",
       "  <thead>\n",
       "    <tr style=\"text-align: right;\">\n",
       "      <th></th>\n",
       "      <th>CustomerID</th>\n",
       "      <th>TransactionID</th>\n",
       "      <th>TransactionDT</th>\n",
       "      <th>TransactionAmt</th>\n",
       "      <th>CardType</th>\n",
       "      <th>isRetention</th>\n",
       "      <th>Frequency</th>\n",
       "    </tr>\n",
       "  </thead>\n",
       "  <tbody>\n",
       "    <tr>\n",
       "      <th>0</th>\n",
       "      <td>0</td>\n",
       "      <td>2987003</td>\n",
       "      <td>86499</td>\n",
       "      <td>50.00</td>\n",
       "      <td>platinum</td>\n",
       "      <td>1</td>\n",
       "      <td>0.524351</td>\n",
       "    </tr>\n",
       "    <tr>\n",
       "      <th>1</th>\n",
       "      <td>1</td>\n",
       "      <td>2987006</td>\n",
       "      <td>86522</td>\n",
       "      <td>159.00</td>\n",
       "      <td>gold</td>\n",
       "      <td>1</td>\n",
       "      <td>-0.009628</td>\n",
       "    </tr>\n",
       "    <tr>\n",
       "      <th>2</th>\n",
       "      <td>2</td>\n",
       "      <td>2987009</td>\n",
       "      <td>86536</td>\n",
       "      <td>117.00</td>\n",
       "      <td>platinum</td>\n",
       "      <td>1</td>\n",
       "      <td>0.266064</td>\n",
       "    </tr>\n",
       "    <tr>\n",
       "      <th>3</th>\n",
       "      <td>3</td>\n",
       "      <td>2987017</td>\n",
       "      <td>86668</td>\n",
       "      <td>100.00</td>\n",
       "      <td>platinum</td>\n",
       "      <td>1</td>\n",
       "      <td>0.279606</td>\n",
       "    </tr>\n",
       "    <tr>\n",
       "      <th>4</th>\n",
       "      <td>4</td>\n",
       "      <td>2987029</td>\n",
       "      <td>86979</td>\n",
       "      <td>36.99</td>\n",
       "      <td>gold</td>\n",
       "      <td>1</td>\n",
       "      <td>0.179209</td>\n",
       "    </tr>\n",
       "  </tbody>\n",
       "</table>\n",
       "</div>"
      ],
      "text/plain": [
       "   CustomerID  TransactionID  TransactionDT  TransactionAmt  CardType  \\\n",
       "0           0        2987003          86499           50.00  platinum   \n",
       "1           1        2987006          86522          159.00      gold   \n",
       "2           2        2987009          86536          117.00  platinum   \n",
       "3           3        2987017          86668          100.00  platinum   \n",
       "4           4        2987029          86979           36.99      gold   \n",
       "\n",
       "   isRetention  Frequency  \n",
       "0            1   0.524351  \n",
       "1            1  -0.009628  \n",
       "2            1   0.266064  \n",
       "3            1   0.279606  \n",
       "4            1   0.179209  "
      ]
     },
     "execution_count": 2,
     "metadata": {},
     "output_type": "execute_result"
    }
   ],
   "source": [
    "df_final = pd.read_csv('data/bank_transaction.csv')\n",
    "df_final.head()"
   ]
  },
  {
   "cell_type": "code",
   "execution_count": 3,
   "metadata": {},
   "outputs": [
    {
     "data": {
      "text/plain": [
       "(57548, 7)"
      ]
     },
     "execution_count": 3,
     "metadata": {},
     "output_type": "execute_result"
    }
   ],
   "source": [
    "df_final.shape"
   ]
  },
  {
   "cell_type": "code",
   "execution_count": 4,
   "metadata": {},
   "outputs": [
    {
     "name": "stdout",
     "output_type": "stream",
     "text": [
      "<class 'pandas.core.frame.DataFrame'>\n",
      "RangeIndex: 57548 entries, 0 to 57547\n",
      "Data columns (total 7 columns):\n",
      " #   Column          Non-Null Count  Dtype  \n",
      "---  ------          --------------  -----  \n",
      " 0   CustomerID      57548 non-null  int64  \n",
      " 1   TransactionID   57548 non-null  int64  \n",
      " 2   TransactionDT   57548 non-null  int64  \n",
      " 3   TransactionAmt  57548 non-null  float64\n",
      " 4   CardType        57548 non-null  object \n",
      " 5   isRetention     57548 non-null  int64  \n",
      " 6   Frequency       57548 non-null  float64\n",
      "dtypes: float64(2), int64(4), object(1)\n",
      "memory usage: 3.1+ MB\n"
     ]
    }
   ],
   "source": [
    "# Check missing values\n",
    "df_final.info()"
   ]
  },
  {
   "cell_type": "markdown",
   "metadata": {},
   "source": [
    "Luckily, there is no missing value in this dataset."
   ]
  },
  {
   "cell_type": "markdown",
   "metadata": {},
   "source": [
    "### 2. Count the number of customers in each group"
   ]
  },
  {
   "cell_type": "code",
   "execution_count": 5,
   "metadata": {},
   "outputs": [
    {
     "data": {
      "text/plain": [
       "gold        38802\n",
       "platinum    18746\n",
       "Name: CardType, dtype: int64"
      ]
     },
     "execution_count": 5,
     "metadata": {},
     "output_type": "execute_result"
    }
   ],
   "source": [
    "df_final['CardType'].value_counts()"
   ]
  },
  {
   "cell_type": "markdown",
   "metadata": {},
   "source": [
    "Customers have either gold card or platinum card. The number of card types in the control and test group are imbalanced so we need to do downsampling in order to keep 50/50 samples in each group."
   ]
  },
  {
   "cell_type": "code",
   "execution_count": 6,
   "metadata": {},
   "outputs": [],
   "source": [
    "# Downsampling\n",
    "from sklearn.utils import resample\n",
    "df_1 = df_final[df_final['CardType']==df_final['CardType'].value_counts().index[0]]\n",
    "df_2 = df_final[df_final['CardType']!=df_final['CardType'].value_counts().index[0]]\n",
    "\n",
    "df_down = resample(df_1, replace=True, n_samples=df_final['CardType'].value_counts().values[1], random_state=42)\n",
    "\n",
    "df_ds = pd.concat([df_down, df_2])"
   ]
  },
  {
   "cell_type": "code",
   "execution_count": 7,
   "metadata": {},
   "outputs": [
    {
     "data": {
      "text/plain": [
       "gold        18746\n",
       "platinum    18746\n",
       "Name: CardType, dtype: int64"
      ]
     },
     "execution_count": 7,
     "metadata": {},
     "output_type": "execute_result"
    }
   ],
   "source": [
    "df_ds['CardType'].value_counts()"
   ]
  },
  {
   "cell_type": "markdown",
   "metadata": {},
   "source": [
    "Now the number of card types are same in the control and test group, nice!"
   ]
  },
  {
   "cell_type": "markdown",
   "metadata": {},
   "source": [
    "  "
   ]
  },
  {
   "cell_type": "markdown",
   "metadata": {},
   "source": [
    "## Data Analysis"
   ]
  },
  {
   "cell_type": "markdown",
   "metadata": {},
   "source": [
    "### 1. Analyzing Customers Behavior "
   ]
  },
  {
   "cell_type": "markdown",
   "metadata": {},
   "source": [
    "We will plot a boxplot to visualize the distribution of 'Frequency', which would give us a rough idea of how much card usage were done by a card holder during the first week after receiving the credit card."
   ]
  },
  {
   "cell_type": "code",
   "execution_count": 8,
   "metadata": {},
   "outputs": [
    {
     "data": {
      "image/png": "[encoded data removed]",
      "text/plain": [
       "<Figure size 432x288 with 1 Axes>"
      ]
     },
     "metadata": {
      "needs_background": "light"
     },
     "output_type": "display_data"
    }
   ],
   "source": [
    "boxplot = df_ds.boxplot(column=['Frequency'])"
   ]
  },
  {
   "cell_type": "code",
   "execution_count": 9,
   "metadata": {},
   "outputs": [
    {
     "data": {
      "text/plain": [
       "count    37492.000000\n",
       "mean         0.499084\n",
       "std          0.304914\n",
       "min         -0.401442\n",
       "25%          0.244851\n",
       "50%          0.499795\n",
       "75%          0.747585\n",
       "max          1.281203\n",
       "Name: Frequency, dtype: float64"
      ]
     },
     "execution_count": 9,
     "metadata": {},
     "output_type": "execute_result"
    }
   ],
   "source": [
    "df_ds['Frequency'].describe()"
   ]
  },
  {
   "cell_type": "markdown",
   "metadata": {},
   "source": [
    "'Frequency' indicates how frequently the transactions are being made. The higher the number is, the more frequently the customer uses the credit card. But we can see some frequencies are below 0 so we need to pull out their percentage."
   ]
  },
  {
   "cell_type": "code",
   "execution_count": 10,
   "metadata": {},
   "outputs": [
    {
     "data": {
      "text/plain": [
       "3.9635122159394007"
      ]
     },
     "execution_count": 10,
     "metadata": {},
     "output_type": "execute_result"
    }
   ],
   "source": [
    "# Calculate the percentage where 'Frequency' is below 0\n",
    "(df_ds['Frequency'] < 0).sum()/ len(df_ds) *100"
   ]
  },
  {
   "cell_type": "code",
   "execution_count": 11,
   "metadata": {},
   "outputs": [
    {
     "data": {
      "text/plain": [
       "1486"
      ]
     },
     "execution_count": 11,
     "metadata": {},
     "output_type": "execute_result"
    }
   ],
   "source": [
    "(df_ds['Frequency'] < 0).sum() "
   ]
  },
  {
   "cell_type": "code",
   "execution_count": 12,
   "metadata": {},
   "outputs": [
    {
     "data": {
      "text/plain": [
       "49.75194708204417"
      ]
     },
     "execution_count": 12,
     "metadata": {},
     "output_type": "execute_result"
    }
   ],
   "source": [
    "# Calculate the percentage where 'Frequency' is below 0.75 and above 0.25\n",
    "((df_ds['Frequency'] < 0.75) & (df_ds['Frequency'] > 0.25)).sum() /  len(df_ds) *100"
   ]
  },
  {
   "cell_type": "code",
   "execution_count": 13,
   "metadata": {},
   "outputs": [
    {
     "data": {
      "text/plain": [
       "18653"
      ]
     },
     "execution_count": 13,
     "metadata": {},
     "output_type": "execute_result"
    }
   ],
   "source": [
    "((df_ds['Frequency'] < 0.75) & (df_ds['Frequency'] > 0.25)).sum() "
   ]
  },
  {
   "cell_type": "code",
   "execution_count": 14,
   "metadata": {},
   "outputs": [
    {
     "data": {
      "text/plain": [
       "3.9821828656780114"
      ]
     },
     "execution_count": 14,
     "metadata": {},
     "output_type": "execute_result"
    }
   ],
   "source": [
    "# Calculate the percentage where 'Frequency' is above 1\n",
    "(df_ds['Frequency'] > 1).sum() / len(df_ds) *100"
   ]
  },
  {
   "cell_type": "code",
   "execution_count": 15,
   "metadata": {},
   "outputs": [
    {
     "data": {
      "text/plain": [
       "1493"
      ]
     },
     "execution_count": 15,
     "metadata": {},
     "output_type": "execute_result"
    }
   ],
   "source": [
    "(df_ds['Frequency'] > 1).sum() "
   ]
  },
  {
   "cell_type": "markdown",
   "metadata": {},
   "source": [
    "- As we can see, 18,947 customers are the 50% of the whole population have around 0.5 'Frequency' during the first week after receiving the new credit card.\n",
    "\n",
    "- 1,475 customers have extremely high 'Frequency' whom are ranked in the top 3.89% level. \n",
    "\n",
    "- 3.89% of 'Frequency' are negative, 1,476 customers did not even make a purchase. Possible reasons may include:\n",
    "\n",
    "    - They applied more than one credit card at the same time and were attracted by other cards.\n",
    "    - They got approvd the credit card but did not like the service, promotion or other factors, so they have not  decided to whether activate it or not.\n",
    "    - They may not get a chance to activate the card in the first week."
   ]
  },
  {
   "cell_type": "markdown",
   "metadata": {},
   "source": [
    "It is important to understand why 3.89% of customers apperared to be 'infrequent' at an early stage. Bank can try to collect their feedback, for example, take the initiative to call them and help them activate their cards in the first place. At least, bank can run a phone survey to understand their concerns and try to address their problems before they churn."
   ]
  },
  {
   "cell_type": "markdown",
   "metadata": {},
   "source": [
    " "
   ]
  },
  {
   "cell_type": "markdown",
   "metadata": {},
   "source": [
    "Let's see the distribution of 'TransactionAmt'."
   ]
  },
  {
   "cell_type": "code",
   "execution_count": 16,
   "metadata": {
    "scrolled": false
   },
   "outputs": [
    {
     "data": {
      "image/png": "[encoded data removed]",
      "text/plain": [
       "<Figure size 360x720 with 1 Axes>"
      ]
     },
     "metadata": {
      "needs_background": "light"
     },
     "output_type": "display_data"
    }
   ],
   "source": [
    "boxplot = df_ds.boxplot(column=['TransactionAmt'],figsize=(5,10))"
   ]
  },
  {
   "cell_type": "code",
   "execution_count": 17,
   "metadata": {
    "scrolled": true
   },
   "outputs": [
    {
     "data": {
      "text/plain": [
       "count    37492.000000\n",
       "mean       132.385413\n",
       "std        222.321623\n",
       "min          0.272000\n",
       "25%         41.950000\n",
       "50%         67.950000\n",
       "75%        117.000000\n",
       "max       4425.970000\n",
       "Name: TransactionAmt, dtype: float64"
      ]
     },
     "execution_count": 17,
     "metadata": {},
     "output_type": "execute_result"
    }
   ],
   "source": [
    "df_ds['TransactionAmt'].describe()"
   ]
  },
  {
   "cell_type": "code",
   "execution_count": 18,
   "metadata": {},
   "outputs": [
    {
     "data": {
      "text/plain": [
       "24.69060066147445"
      ]
     },
     "execution_count": 18,
     "metadata": {},
     "output_type": "execute_result"
    }
   ],
   "source": [
    "# Calculate the percentage of 'TransactionAmt' above 117 dollars\n",
    "(df_ds['TransactionAmt'] > 117).sum() / len(df_ds) *100"
   ]
  },
  {
   "cell_type": "code",
   "execution_count": 19,
   "metadata": {},
   "outputs": [
    {
     "data": {
      "text/plain": [
       "9257"
      ]
     },
     "execution_count": 19,
     "metadata": {},
     "output_type": "execute_result"
    }
   ],
   "source": [
    "(df_ds['TransactionAmt'] > 117).sum()"
   ]
  },
  {
   "cell_type": "code",
   "execution_count": 20,
   "metadata": {},
   "outputs": [
    {
     "data": {
      "text/plain": [
       "37492"
      ]
     },
     "execution_count": 20,
     "metadata": {},
     "output_type": "execute_result"
    }
   ],
   "source": [
    "len(df_ds)"
   ]
  },
  {
   "cell_type": "markdown",
   "metadata": {},
   "source": [
    "Clearly, there are lots of outliers above Quartile 3 that means 75% of customers their tansaction amount during the first week was less than 117 dollars, while the dollar amount spend by top 25% of customers was more than 117 dollars and up to maximum 5047.47 dollars.\n",
    "\n",
    "These outliers are about 1/4 of the whole customers. Due to the significant difference in credit card consumption habits, this boxplot is extremely skewed and not very informative. To learn about the underlying patterns of credit card usage, we will focus on the behaviors of the majority of the customers."
   ]
  },
  {
   "cell_type": "markdown",
   "metadata": {},
   "source": [
    "### Comparing 'IsRetention'"
   ]
  },
  {
   "cell_type": "markdown",
   "metadata": {},
   "source": [
    "In the plot above we can see that some customers received the credit card but then never activate it, some customers just made a low usage in their first week, and some spent a lot! What we want is for customers to develop a habbit and convert this card to their top of wallet option."
   ]
  },
  {
   "cell_type": "markdown",
   "metadata": {},
   "source": [
    "Retention rate is the percentage of customers that come back and use the card after they have activated it, which is an important metric in measuring new customers. The higher the retention rate is, the easier it is to retain customers and build a large customer base."
   ]
  },
  {
   "cell_type": "code",
   "execution_count": 21,
   "metadata": {},
   "outputs": [
    {
     "data": {
      "text/plain": [
       "0.4687666702229809"
      ]
     },
     "execution_count": 21,
     "metadata": {},
     "output_type": "execute_result"
    }
   ],
   "source": [
    "df_ds['isRetention'].mean()"
   ]
  },
  {
   "cell_type": "markdown",
   "metadata": {},
   "source": [
    "A little less than half of the customers started to use the card one week after receiving it. Now that we have a benchmark, let's look at how one week retention differs between the two AB-groups."
   ]
  },
  {
   "cell_type": "code",
   "execution_count": 22,
   "metadata": {},
   "outputs": [
    {
     "data": {
      "text/plain": [
       "CardType\n",
       "gold        47.636829\n",
       "platinum    46.116505\n",
       "Name: isRetention, dtype: float64"
      ]
     },
     "execution_count": 22,
     "metadata": {},
     "output_type": "execute_result"
    }
   ],
   "source": [
    "df_ds.groupby('CardType')['isRetention'].mean() *100"
   ]
  },
  {
   "cell_type": "markdown",
   "metadata": {},
   "source": [
    "It appears that there was a slight decrease in one week retention when the card type is platinum (45.83%) compared to the control which gold group(47.78%). It's a small change, but even small changes in retention can have a large impact. But while we are certain of the difference in the data, how certain should we be that platinum group will be worse in the future?\n",
    "\n",
    "There are a couple of ways we can get at the certainty of these retention numbers. Here we will use bootstrapping: We will repeatedly re-sample our dataset (with replacement) and calculate one week retention for those samples. The variation in one week retention will give us an indication of how uncertain the retention numbers are."
   ]
  },
  {
   "cell_type": "code",
   "execution_count": 24,
   "metadata": {},
   "outputs": [
    {
     "data": {
      "text/plain": [
       "Text(0.5, 1.0, '% means comparsion of Retention Rate in two groups')"
      ]
     },
     "execution_count": 24,
     "metadata": {},
     "output_type": "execute_result"
    },
    {
     "data": {
      "image/png": "[encoded data removed]",
      "text/plain": [
       "<Figure size 432x288 with 1 Axes>"
      ]
     },
     "metadata": {
      "needs_background": "light"
     },
     "output_type": "display_data"
    }
   ],
   "source": [
    "# Creating an list with bootstrapped means for each AB-group\n",
    "boot_1w = []\n",
    "for i in range(1000):\n",
    "    boot_mean = df_ds.sample(frac = 1,replace = True).groupby('CardType')['isRetention'].mean()\n",
    "    boot_1w.append(boot_mean)\n",
    "    \n",
    "# Transforming the list to a DataFrame\n",
    "boot_1w = pd.DataFrame(boot_1w)\n",
    "\n",
    "    \n",
    "# A Kernel Density Estimate plot of the bootstrap distributions\n",
    "ax = boot_1w.plot(kind='density', color=['gold', 'silver'])\n",
    "ax.set_title('% means comparsion of Retention Rate in two groups')\n"
   ]
  },
  {
   "cell_type": "markdown",
   "metadata": {},
   "source": [
    "These two distributions above represent the bootstrap uncertainty over what the underlying one week retention could be for the two AB-groups. There seems to be some evidence of a difference. Let's plot the % difference to have a closer look."
   ]
  },
  {
   "cell_type": "code",
   "execution_count": 25,
   "metadata": {},
   "outputs": [
    {
     "name": "stdout",
     "output_type": "stream",
     "text": [
      "Probability that one week retention is greater of gold group: 0.998\n"
     ]
    },
    {
     "data": {
      "image/png": "[encoded data removed]",
      "text/plain": [
       "<Figure size 432x288 with 1 Axes>"
      ]
     },
     "metadata": {
      "needs_background": "light"
     },
     "output_type": "display_data"
    }
   ],
   "source": [
    "# Adding a column with the % difference between the two AB-groups\n",
    "boot_1w['diff'] = (boot_1w.gold - boot_1w.platinum)/boot_1w.platinum*100\n",
    "\n",
    "# Ploting the bootstrap % difference\n",
    "ax = boot_1w['diff'].plot(kind='density', color='cornflowerblue')\n",
    "ax.set_title('% means difference of Retention Rate between two groups')\n",
    "\n",
    "# Calculating the probability that one week retention is greater of gold group\n",
    "print('Probability that one week retention is greater of gold group:',(boot_1w['diff'] > 0).mean())"
   ]
  },
  {
   "cell_type": "markdown",
   "metadata": {},
   "source": [
    "From this chart, we can see that the most likely % difference is around 4%, and that 92% of the distribution is above 0%, in favor of gold group."
   ]
  },
  {
   "cell_type": "markdown",
   "metadata": {},
   "source": [
    "### Conclusion "
   ]
  },
  {
   "cell_type": "markdown",
   "metadata": {},
   "source": [
    "The bootstrap result tells us that there is strong evidence that one week retention is higher when people have gold card than others have platinum card. The conclusion is: If we want to keep retention high — we should upsell gold card to customers than only letting them keep existing platinum card.\n",
    "\n",
    "There are, of course, other metrics we could look at, like the frequency or how much transaction amount are made by the two AB-groups. But retention is one of the most important metrics. If we don't retain our customer base, it doesn't matter how much money they spend using this credit card.\n"
   ]
  }
 ],
 "metadata": {
  "kernelspec": {
   "display_name": "Python 3",
   "language": "python",
   "name": "python3"
  },
  "language_info": {
   "codemirror_mode": {
    "name": "ipython",
    "version": 3
   },
   "file_extension": ".py",
   "mimetype": "text/x-python",
   "name": "python",
   "nbconvert_exporter": "python",
   "pygments_lexer": "ipython3",
   "version": "3.7.6"
  }
 },
 "nbformat": 4,
 "nbformat_minor": 4
}
